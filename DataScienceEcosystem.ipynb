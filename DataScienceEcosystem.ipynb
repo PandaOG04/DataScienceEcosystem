{
 "cells": [
  {
   "cell_type": "markdown",
   "id": "fcea3507-eff0-4bf5-9a88-356134ab8180",
   "metadata": {},
   "source": [
    "# Data Science Tools and Ecosystem"
   ]
  },
  {
   "cell_type": "markdown",
   "id": "8cd5acfc-decb-48a1-ad23-1818e54c651b",
   "metadata": {},
   "source": [
    "In this notebook, Data Science Tools and Ecosystem are summarized.\n",
    "\n",
    "    Some of the popular languages that Data Scientists use are:\n",
    "        \n",
    "        1. Python\n",
    "        2. R\n",
    "        3. Java\n",
    "        4. Julia\n",
    "        5. Scala"
   ]
  },
  {
   "cell_type": "markdown",
   "id": "c3ebfd7e-073d-4a71-bdce-5f62b74a3097",
   "metadata": {},
   "source": [
    "    Some of the commonly used libraries used by Data Scientists include:\n",
    "    \n",
    "        1. numpy\n",
    "        2. pandas\n",
    "        3. scikit-learn"
   ]
  },
  {
   "cell_type": "markdown",
   "id": "ec585afe-7e7d-46d6-b2b2-b4ae040f6e99",
   "metadata": {},
   "source": [
    "\n",
    "| Data Science Tools  |\n",
    "| --- | \n",
    "| R Studio | \n",
    "| Zeppelin |\n",
    "| Spyder |"
   ]
  },
  {
   "cell_type": "markdown",
   "id": "4021a1d2-6f8a-4f3a-a5f9-8f036578fcec",
   "metadata": {},
   "source": [
    "### Below are a few examples of evaluating arithmetic expressions in Python."
   ]
  },
  {
   "cell_type": "code",
   "execution_count": null,
   "id": "ccd8e68a-ea6d-4535-bfba-0bc19d210bcc",
   "metadata": {
    "tags": []
   },
   "outputs": [],
   "source": [
    "# This a simple arithmetic expression to mutiply then add integers.\n",
    "     (3*4)+5"
   ]
  },
  {
   "cell_type": "code",
   "execution_count": null,
   "id": "94c5f5f3-011a-43eb-8c00-fae7054b86af",
   "metadata": {
    "tags": []
   },
   "outputs": [],
   "source": [
    "17"
   ]
  },
  {
   "cell_type": "code",
   "execution_count": null,
   "id": "4035ca2e-90b0-4dfe-a42b-d426d6c6d543",
   "metadata": {},
   "outputs": [],
   "source": [
    "# This will convert 200 minutes to hours by diving by 60. \n",
    "200/60"
   ]
  },
  {
   "cell_type": "code",
   "execution_count": null,
   "id": "35811150-f9a5-473a-aa38-62ae4df42238",
   "metadata": {
    "tags": []
   },
   "outputs": [],
   "source": [
    "3.333333333333333"
   ]
  },
  {
   "cell_type": "markdown",
   "id": "ddad5777-98a0-4849-87c2-dd3f085861e3",
   "metadata": {},
   "source": [
    "**Objectives:**\n",
    "        \n",
    "        \n",
    "        "
   ]
  },
  {
   "cell_type": "markdown",
   "id": "ed277d96-0b63-4428-b725-465924473c09",
   "metadata": {},
   "source": [
    "* List popular languages for Data Science\n",
    "* Summarize data science tools and ecosystem\n",
    "* List commonly used libraries by data scientist"
   ]
  },
  {
   "cell_type": "markdown",
   "id": "33edc59b-865f-46af-9d3c-ec54a296beb6",
   "metadata": {},
   "source": [
    "## Author"
   ]
  },
  {
   "cell_type": "markdown",
   "id": "01c67359-cf7c-4eb1-a195-4aac536359d7",
   "metadata": {},
   "source": [
    "**Eren Ferhad Khan**"
   ]
  }
 ],
 "metadata": {
  "kernelspec": {
   "display_name": "Julia 1.6.5",
   "language": "julia",
   "name": "conda-env-julia-julia-1.6"
  },
  "language_info": {
   "name": ""
  }
 },
 "nbformat": 4,
 "nbformat_minor": 5
}
